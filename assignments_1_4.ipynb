{
 "cells": [
  {
   "cell_type": "markdown",
   "source": [
    "pip Google Colaboratory-s verzió: [itt](https://colab.research.google.com/drive/1PEQsa0MtqN_XdQu-cB6OZE6KlGZGj5yb)"
   ],
   "metadata": {
    "collapsed": false,
    "pycharm": {
     "name": "#%% md\n"
    }
   }
  },
  {
   "cell_type": "markdown",
   "metadata": {
    "collapsed": true,
    "pycharm": {
     "name": "#%% md\n"
    }
   },
   "source": [
    "### 1. feladat"
   ]
  },
  {
   "cell_type": "markdown",
   "source": [
    "A következő feladatot klasszikus Python listákkal oldjuk meg (azaz ne használjunk NumPy-t hozzá)!"
   ],
   "metadata": {
    "collapsed": false
   }
  },
  {
   "cell_type": "markdown",
   "source": [
    "Adott egy 10x10-es táblázat, amelynek celláiba számokat írunk. Ezt úgy tároljuk le, hogy a sorokat (amelyek listák) egy listában tároljuk. **Írjunk egy függvényt**, amelynek bemenete a 10x10 táblázat és ezen a táblázaton végigmegy egy 2x2-es négyzettel a bal felső sarokból indulva, majd a 2x2-es négyzetben lévő számokból kiveszi a legnagyobbat. Így a függvény outputja az így képzett 9x9-es táblázat. "
   ],
   "metadata": {
    "collapsed": false
   }
  },
  {
   "cell_type": "code",
   "execution_count": 3,
   "outputs": [],
   "source": [
    "def max_pooling(input_table):\n",
    "  output_table = [[0]*9]*9\n",
    "  for i in range(len(input_table)-1):\n",
    "      \n",
    "      for j in range(len(input_table[0])-1):\n",
    "          output_table[i][j] = max(input_table[i+1][j], input_table[i][j], input_table[i][j+1], input_table[i+1][j+1])\n",
    "  print(output_table)\n",
    "  return output_table"
   ],
   "metadata": {
    "collapsed": false,
    "pycharm": {
     "name": "#%%\n",
     "is_executing": false
    }
   }
  },
  {
   "cell_type": "code",
   "execution_count": 4,
   "outputs": [
    {
     "name": "stdout",
     "text": [
      "[[10, 10, 3, 4, 5, 6, 7, 8, 9], [10, 10, 3, 4, 5, 6, 7, 8, 9], [10, 10, 3, 4, 5, 6, 7, 8, 9], [10, 10, 3, 4, 5, 6, 7, 8, 9], [10, 10, 3, 4, 5, 6, 7, 8, 9], [10, 10, 3, 4, 5, 6, 7, 8, 9], [10, 10, 3, 4, 5, 6, 7, 8, 9], [10, 10, 3, 4, 5, 6, 7, 8, 9], [10, 10, 3, 4, 5, 6, 7, 8, 9]]\n"
     ],
     "output_type": "stream"
    },
    {
     "data": {
      "text/plain": "[[10, 10, 3, 4, 5, 6, 7, 8, 9],\n [10, 10, 3, 4, 5, 6, 7, 8, 9],\n [10, 10, 3, 4, 5, 6, 7, 8, 9],\n [10, 10, 3, 4, 5, 6, 7, 8, 9],\n [10, 10, 3, 4, 5, 6, 7, 8, 9],\n [10, 10, 3, 4, 5, 6, 7, 8, 9],\n [10, 10, 3, 4, 5, 6, 7, 8, 9],\n [10, 10, 3, 4, 5, 6, 7, 8, 9],\n [10, 10, 3, 4, 5, 6, 7, 8, 9]]"
     },
     "metadata": {},
     "output_type": "execute_result",
     "execution_count": 4
    }
   ],
   "source": [
    "# TEST\n",
    "input_table = [\n",
    " [1,2,3,4,5,6,7,8,9,10],\n",
    " [2,3,4,5,6,7,8,9,10,1],\n",
    " [3,4,5,6,7,8,9,10,1,2],\n",
    " [4,5,6,7,8,9,10,1,2,3],\n",
    " [5,6,7,8,9,10,1,2,3,4],\n",
    " [6,7,8,9,10,1,2,3,4,5],\n",
    " [7,8,9,10,1,2,3,4,5,6],\n",
    " [8,9,10,1,2,3,4,5,6,7],\n",
    " [9,10,1,2,3,4,5,6,7,8],\n",
    " [10,1,2,3,4,5,6,7,8,9]]\n",
    "max_pooling(input_table)"
   ],
   "metadata": {
    "collapsed": false,
    "pycharm": {
     "name": "#%%\n",
     "is_executing": false
    }
   }
  },
  {
   "cell_type": "markdown",
   "source": [
    "*Várható output:*\n",
    "\n",
    "[[3,4,5,6,7,8,9,10,10],\n",
    "\n",
    "[4,5,6,7,8,9,10,10,10],\n",
    "\n",
    "[5,6,7,8,9,10,10,10,3],\n",
    "\n",
    "[6,7,8,9,10,10,10,3,4],\n",
    "\n",
    "[7,8,9,10,10,10,3,4,5],\n",
    "\n",
    "[8,9,10,10,10,3,4,5,6],\n",
    "\n",
    "[9,10,10,10,3,4,5,6,7],\n",
    "\n",
    "[10,10,10,3,4,5,6,7,8],\n",
    "\n",
    "[10,10,3,4,5,6,7,8,9]]"
   ],
   "metadata": {
    "collapsed": false
   }
  },
  {
   "cell_type": "code",
   "source": [
    "### 2. feladat"
   ],
   "metadata": {
    "collapsed": false,
    "pycharm": {
     "name": "#%% md \n"
    }
   },
   "execution_count": null,
   "outputs": []
  },
  {
   "cell_type": "markdown",
   "source": [
    "Írjunk egy függvényt, amelynek három bemenete van: két egész szám és egy karaktersorozat. \n",
    "\n",
    "A két szám egy koordinátát jelöl a Descartes-féle koordináta rendszerben. \n",
    "A karaktersorozat a négy égtáj kezdőbetűit tartalmazhatja, azaz az 'E', 'K', 'D', 'N'. \n",
    "Képzeljük el, hogy egy bolha áll a megadott koordinátájú pontban, és a karaktersorozat jelöli, hogy egy adott lépésben merre ugrott. "
   ],
   "metadata": {
    "collapsed": false
   }
  },
  {
   "cell_type": "code",
   "source": [
    "def flea_jump(start_x, start_y, input_string):\n",
    "    dest_x, dest_y = 0,0\n",
    "    e = 0\n",
    "    k = 0\n",
    "    for i in range(len(input_string)):\n",
    "        if input_string[i] =='E':\n",
    "            e +=1\n",
    "        elif input_string[i] =='D':\n",
    "            e -=1\n",
    "        elif input_string[i] =='K':\n",
    "            k +=1\n",
    "        elif input_string[i] =='N':\n",
    "            k -=1\n",
    "    dest_x = start_x + e\n",
    "    dest_y = start_y + k\n",
    "    print(\"n =\", n,\"k =\", k, \"d =\", d,\"e =\", e,\"dest_x =\", dest_x, \"dest_y =\", dest_y)\n",
    "    print(\"srart_x\", start_x,\"start_y\", start_y)\n",
    "\n",
    "    return dest_x, dest_y"
   ],
   "metadata": {
    "collapsed": false,
    "pycharm": {
     "name": "#%%\n",
     "is_executing": false
    }
   },
   "execution_count": 68,
   "outputs": []
  },
  {
   "cell_type": "code",
   "execution_count": 69,
   "outputs": [
    {
     "name": "stdout",
     "text": [
      "n = 0 k = 1 d = 0 e = 1 dest_x = 4 dest_y = 5\n",
      "srart_x 3 start_y 4\n"
     ],
     "output_type": "stream"
    },
    {
     "data": {
      "text/plain": "(4, 5)"
     },
     "metadata": {},
     "output_type": "execute_result",
     "execution_count": 69
    }
   ],
   "source": [
    "# TEST\n",
    "flea_jump(3,4,\"EEKDNK\") # várható output (4,5)"
   ],
   "metadata": {
    "collapsed": false,
    "pycharm": {
     "name": "#%%\n",
     "is_executing": false
    }
   }
  },
  {
   "cell_type": "markdown",
   "source": [
    "### 3. feladat"
   ],
   "metadata": {
    "collapsed": false
   }
  },
  {
   "cell_type": "markdown",
   "source": [
    "Készítsünk egy 1000 elemből álló listát, amely véletlenszerűen −1 és 1 -eseket tartalmaz. Ezután képezzünk ebből egy szintén ezer elemű listát, aminek az n-edik eleme az eredeti lista első n elemének összege. \n",
    "Ábrázoljuk az utóbbi listát függvényként."
   ],
   "metadata": {
    "collapsed": false
   }
  },
  {
   "cell_type": "code",
   "execution_count": null,
   "outputs": [],
   "source": [
    "# Packages to import:\n",
    "\n",
    "# Random list\n",
    "\n",
    "# Computed list\n",
    "\n",
    "# Plot\n"
   ],
   "metadata": {
    "collapsed": false,
    "pycharm": {
     "name": "#%%\n"
    }
   }
  },
  {
   "cell_type": "markdown",
   "source": [
    "### 4. feladat"
   ],
   "metadata": {
    "collapsed": false
   }
  },
  {
   "cell_type": "markdown",
   "source": [
    "**Ebben a feladatban NEM használhatjuk a klasszikus vezérlési szerkezeteket (if, for), CSAK a NumPy csomag\n",
    "függvényeit, adattárolóit és metódusait!**"
   ],
   "metadata": {
    "collapsed": false
   }
  },
  {
   "cell_type": "markdown",
   "source": [
    "Egy vezetést támogató rendszerben egy szenzorral minden tizedmásodpercben végeznek egy mérést \n",
    "(az időpontot, amikor a mérés történik, *mérési ciklus*nak szokták nevezni). \n",
    "A szenzor mért értékei 0 és 1 közötti, valós számok. Jelen rendszer a vészfékezésért felel: \n",
    "ha a mért érték legalább három mérési ciklusban nagyobb, mint egy küszöbérték, \n",
    "akkor a harmadik ciklusban beindítja a fékezést az autóban. A fékezés addig tart, amíg nem mérünk újra küszöb alatti értéket."
   ],
   "metadata": {
    "collapsed": false
   }
  },
  {
   "cell_type": "markdown",
   "source": [
    "a) Írjunk egy függvényt, aminek két bemenete van: egy vektor, amiben az egymás utáni mért értékek szerepelnek és egy 0 és 1 közötti valós szám, amely a küszöbérték. A függvény adja vissza eredménynek, hogy a méréssorozatban történt-e fékezés."
   ],
   "metadata": {
    "collapsed": false
   }
  },
  {
   "cell_type": "code",
   "execution_count": null,
   "outputs": [],
   "source": [
    "import numpy as np\n",
    "def is_there_braking(measurement, threshold):\n",
    "  response = False\n",
    "\n",
    "  ### CODE START\n",
    "\n",
    "  ### CODE END\n",
    "\n",
    "  return response"
   ],
   "metadata": {
    "collapsed": false,
    "pycharm": {
     "name": "#%%\n"
    }
   }
  },
  {
   "cell_type": "code",
   "execution_count": null,
   "outputs": [],
   "source": [
    "measurement= np.array([0.4, 0.31, 0.81, 0.91, 0.76, 0.24, 0.94, 0.28, 0.86, 0.99, 0.22])\n",
    "\n",
    "threshold_1 = 0.75\n",
    "print('Is there braking?', is_there_braking(measurement, threshold_1), 'for threshold', threshold_1) # Response: True\n",
    "threshold_2 = 0.77\n",
    "print('Is there braking?', is_there_braking(measurement, threshold_2), 'for threshold', threshold_2) # A válasz: nincs"
   ],
   "metadata": {
    "collapsed": false,
    "pycharm": {
     "name": "#%%\n"
    }
   }
  },
  {
   "cell_type": "markdown",
   "source": [
    "b) Írjunk egy függvényt, amelynek a bemenete megegyezik az a) feldatbeli függvény bemenetével, \n",
    "viszont azzal tér vissza, hogy a megadott méréssorozatban hányszor fékezett az autó."
   ],
   "metadata": {
    "collapsed": false
   }
  },
  {
   "cell_type": "code",
   "execution_count": null,
   "outputs": [],
   "source": [
    "import numpy as np\n",
    "def number_of_brakings(measurement, threshold):\n",
    "  number_of_brakings = -1\n",
    "  \n",
    "  ### CODE START\n",
    "\n",
    "  ### CODE END\n",
    "\n",
    "  return number_of_brakings"
   ],
   "metadata": {
    "collapsed": false,
    "pycharm": {
     "name": "#%%\n"
    }
   }
  },
  {
   "cell_type": "code",
   "execution_count": null,
   "outputs": [],
   "source": [
    "measurement = np.array([0.32, 0.88, 0.55, 0.76, 0.81, 0.93, 0.11, 0.99, 0.87, 0.79, 0.90, 0.82, 0.67, 0.21, 0.78, 0.93, 0.12, 0.97, 0.95, 0.89, 0.31, 0.78, 0.79, 0.55])\n",
    "threshold = 0.75\n",
    "\n",
    "print('Number of brakings:', number_of_brakings(measurement, threshold), 'for threshold', threshold) # Output: 3"
   ],
   "metadata": {
    "collapsed": false,
    "pycharm": {
     "name": "#%%\n"
    }
   }
  },
  {
   "cell_type": "code",
   "execution_count": null,
   "outputs": [],
   "source": [
    "\n"
   ],
   "metadata": {
    "collapsed": false,
    "pycharm": {
     "name": "#%%\n"
    }
   }
  }
 ],
 "metadata": {
  "kernelspec": {
   "display_name": "Python 3",
   "language": "python",
   "name": "python3"
  },
  "language_info": {
   "codemirror_mode": {
    "name": "ipython",
    "version": 2
   },
   "file_extension": ".py",
   "mimetype": "text/x-python",
   "name": "python",
   "nbconvert_exporter": "python",
   "pygments_lexer": "ipython2",
   "version": "2.7.6"
  },
  "pycharm": {
   "stem_cell": {
    "cell_type": "raw",
    "source": [],
    "metadata": {
     "collapsed": false
    }
   }
  }
 },
 "nbformat": 4,
 "nbformat_minor": 0
}